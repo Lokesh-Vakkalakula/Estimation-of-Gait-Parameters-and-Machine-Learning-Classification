{
 "cells": [
  {
   "cell_type": "code",
   "execution_count": 305,
   "metadata": {},
   "outputs": [],
   "source": [
    "import pandas as pd\n",
    "import os\n",
    "import glob\n",
    "import matplotlib.pyplot as plt\n",
    "import seaborn as sns\n",
    "from dtaidistance import dtw\n",
    "%matplotlib inline"
   ]
  },
  {
   "cell_type": "code",
   "execution_count": 306,
   "metadata": {},
   "outputs": [],
   "source": [
    "path = os.getcwd()"
   ]
  },
  {
   "cell_type": "code",
   "execution_count": 307,
   "metadata": {},
   "outputs": [],
   "source": [
    "#paths of the folders where knee flexion and pelvic tilt are stored"
   ]
  },
  {
   "cell_type": "code",
   "execution_count": 308,
   "metadata": {},
   "outputs": [],
   "source": [
    "path_knee=r'C:\\Users\\lokes\\Downloads\\Py-DS-ML-Bootcamp-master\\DTW and Classification\\knee'\n",
    "path_pelvic=r'C:\\Users\\lokes\\Downloads\\Py-DS-ML-Bootcamp-master\\DTW and Classification\\pelvic'"
   ]
  },
  {
   "cell_type": "code",
   "execution_count": 309,
   "metadata": {},
   "outputs": [],
   "source": [
    "#filenames in the folders knee and pelvic are read "
   ]
  },
  {
   "cell_type": "code",
   "execution_count": 310,
   "metadata": {},
   "outputs": [],
   "source": [
    "files_knee = os.listdir(path_knee)\n",
    "files_pelvic = os.listdir(path_knee)\n",
    "#files = glob.glob(path + \"/*.xls\")"
   ]
  },
  {
   "cell_type": "code",
   "execution_count": 311,
   "metadata": {},
   "outputs": [],
   "source": [
    "files_knee_xls=[]\n",
    "files_pelvic_xls=[]"
   ]
  },
  {
   "cell_type": "code",
   "execution_count": 312,
   "metadata": {},
   "outputs": [],
   "source": [
    "#filtering the xls files we require"
   ]
  },
  {
   "cell_type": "code",
   "execution_count": 313,
   "metadata": {},
   "outputs": [],
   "source": [
    "for filename in files_knee:\n",
    "    if '.xls' in filename:\n",
    "        #print(filename)\n",
    "        files_knee_xls.append(filename)"
   ]
  },
  {
   "cell_type": "code",
   "execution_count": 314,
   "metadata": {},
   "outputs": [],
   "source": [
    "for filename in files_pelvic:\n",
    "    if '.xls' in filename:\n",
    "        #print(filename)\n",
    "        files_pelvic_xls.append(filename)"
   ]
  },
  {
   "cell_type": "code",
   "execution_count": 315,
   "metadata": {},
   "outputs": [],
   "source": [
    "#finding out the list of people(probands) whose data is availble"
   ]
  },
  {
   "cell_type": "code",
   "execution_count": 316,
   "metadata": {},
   "outputs": [],
   "source": [
    "probandlist_knee=[]\n",
    "probandlist_pelvic=[]"
   ]
  },
  {
   "cell_type": "code",
   "execution_count": 317,
   "metadata": {},
   "outputs": [],
   "source": [
    "for filename in files_knee_xls:\n",
    "    if filename.split('_')[1]=='RG1.xls':\n",
    "        proband_name=filename.split('_')[0]\n",
    "        #print(proband_name)\n",
    "        probandlist_knee.append(proband_name)"
   ]
  },
  {
   "cell_type": "code",
   "execution_count": 318,
   "metadata": {},
   "outputs": [],
   "source": [
    "#probandlist_knee"
   ]
  },
  {
   "cell_type": "code",
   "execution_count": 319,
   "metadata": {},
   "outputs": [],
   "source": [
    "for filename in files_pelvic_xls:\n",
    "    if filename.split('_')[1]=='RG1.xls':\n",
    "        proband_name=filename.split('_')[0]\n",
    "        #print(proband_name)\n",
    "        probandlist_pelvic.append(proband_name)"
   ]
  },
  {
   "cell_type": "code",
   "execution_count": 320,
   "metadata": {},
   "outputs": [
    {
     "data": {
      "text/plain": [
       "'C:\\\\Users\\\\lokes\\\\Downloads\\\\Py-DS-ML-Bootcamp-master\\\\DTW and Classification\\\\knee'"
      ]
     },
     "execution_count": 320,
     "metadata": {},
     "output_type": "execute_result"
    }
   ],
   "source": [
    "path_knee"
   ]
  },
  {
   "cell_type": "code",
   "execution_count": 321,
   "metadata": {},
   "outputs": [],
   "source": [
    "#Combining the knee angles of RG1, RG2, CB1, CB3, CB7, WSPL, FG of a person into one common file\n",
    "#try and catch are used to incase a file is missing to avoid run time errors"
   ]
  },
  {
   "cell_type": "code",
   "execution_count": 322,
   "metadata": {},
   "outputs": [],
   "source": [
    "for probandname in probandlist_knee:\n",
    "    try:\n",
    "        RG1=pd.read_excel(path_knee+'/'+probandname+'_RG1.xls',sheet_name=0,usecols=([1]))\n",
    "    except:\n",
    "        RG1=pd.DataFrame([0])\n",
    "    try:\n",
    "        RG2=pd.read_excel(path_knee+'/'+probandname+'_RG2.xls',sheet_name=0,usecols=([1]))\n",
    "    except:\n",
    "        RG2=pd.DataFrame([0])\n",
    "    try:\n",
    "        CB1=pd.read_excel(path_knee+'/'+probandname+'_CB1.xls',sheet_name=0,usecols=([1]))\n",
    "    except:\n",
    "        CB1=pd.DataFrame([0])\n",
    "    try:\n",
    "        CB3=pd.read_excel(path_knee+'/'+probandname+'_CB3.xls',sheet_name=0,usecols=([1]))\n",
    "    except:\n",
    "        CB3=pd.DataFrame([0])\n",
    "    try:\n",
    "        CB7=pd.read_excel(path_knee+'/'+probandname+'_CB7.xls',sheet_name=0,usecols=([1]))\n",
    "    except:\n",
    "        CB7=pd.DataFrame([0])\n",
    "    try:\n",
    "        WSPL=pd.read_excel(path_knee+'/'+probandname+'_WSPL.xls',sheet_name=0,usecols=([1]))\n",
    "    except:\n",
    "        WSPL=pd.DataFrame([0])\n",
    "    try:\n",
    "        FG=pd.read_excel(path_knee+'/'+probandname+'_FG.xls',sheet_name=0,usecols=([1]))\n",
    "    except:\n",
    "        FG=pd.DataFrame([0])\n",
    "    df=pd.concat([RG1,RG2,CB1,CB3,CB7,WSPL,FG],axis=1)\n",
    "    df.columns=['RG1','RG2','CB1','CB3','CB7','WSPL','FG']\n",
    "    probandname=probandname+'.xls'\n",
    "    df.to_excel(path_knee+'/combined'+'/'+probandname)\n",
    "    "
   ]
  },
  {
   "cell_type": "code",
   "execution_count": 323,
   "metadata": {},
   "outputs": [],
   "source": [
    "#Combining the pelvic tilt angles of RG1, RG2, CB1, CB3, CB7, WSPL, FG of a person into one common file\n",
    "#try and catch are used to incase a file is missing to avoid run time errors"
   ]
  },
  {
   "cell_type": "code",
   "execution_count": 324,
   "metadata": {},
   "outputs": [],
   "source": [
    "for probandname in probandlist_pelvic:\n",
    "    try:\n",
    "        RG1=pd.read_excel(path_pelvic+'/'+probandname+'_RG1.xls',sheet_name=0,usecols=([1]))\n",
    "    except:\n",
    "        RG1=pd.DataFrame([0])\n",
    "    try:\n",
    "        RG2=pd.read_excel(path_pelvic+'/'+probandname+'_RG2.xls',sheet_name=0,usecols=([1]))\n",
    "    except:\n",
    "        RG2=pd.DataFrame([0])\n",
    "    try:\n",
    "        CB1=pd.read_excel(path_pelvic+'/'+probandname+'_CB1.xls',sheet_name=0,usecols=([1]))\n",
    "    except:\n",
    "        CB1=pd.DataFrame([0])\n",
    "    try:\n",
    "        CB3=pd.read_excel(path_pelvic+'/'+probandname+'_CB3.xls',sheet_name=0,usecols=([1]))\n",
    "    except:\n",
    "        CB3=pd.DataFrame([0])\n",
    "    try:\n",
    "        CB7=pd.read_excel(path_pelvic+'/'+probandname+'_CB7.xls',sheet_name=0,usecols=([1]))\n",
    "    except:\n",
    "        CB7=pd.DataFrame([0])\n",
    "    try:\n",
    "        WSPL=pd.read_excel(path_pelvic+'/'+probandname+'_WSPL.xls',sheet_name=0,usecols=([1]))\n",
    "    except:\n",
    "        WSPL=pd.DataFrame([0])\n",
    "    try:\n",
    "        FG=pd.read_excel(path_pelvic+'/'+probandname+'_FG.xls',sheet_name=0,usecols=([1]))\n",
    "    except:\n",
    "        FG=pd.DataFrame([0])\n",
    "    df=pd.concat([RG1,RG2,CB1,CB3,CB7,WSPL,FG],axis=1)\n",
    "    df.columns=['RG1_pelvic','RG2_pelvic','CB1_pelvic','CB3_pelvic','CB7_pelvic','WSPL_pelvic','FG_pelvic']\n",
    "    probandname=probandname+'.xls'\n",
    "    df.to_excel(path_pelvic+'/combined'+'/'+probandname)"
   ]
  },
  {
   "cell_type": "code",
   "execution_count": 325,
   "metadata": {},
   "outputs": [],
   "source": [
    "Path_merge_files_path_knee=path_knee+'/combined'\n",
    "Path_merge_files_path_pelvic=path_pelvic+'/combined'"
   ]
  },
  {
   "cell_type": "code",
   "execution_count": 326,
   "metadata": {},
   "outputs": [
    {
     "data": {
      "text/plain": [
       "'C:\\\\Users\\\\lokes\\\\Downloads\\\\Py-DS-ML-Bootcamp-master\\\\DTW and Classification\\\\pelvic/combined'"
      ]
     },
     "execution_count": 326,
     "metadata": {},
     "output_type": "execute_result"
    }
   ],
   "source": [
    "Path_merge_files_path_pelvic"
   ]
  },
  {
   "cell_type": "code",
   "execution_count": 327,
   "metadata": {},
   "outputs": [],
   "source": [
    "Path_merge_files_knee=os.listdir(Path_merge_files_path_knee)\n",
    "Path_merge_files_pelvic=os.listdir(Path_merge_files_path_pelvic)"
   ]
  },
  {
   "cell_type": "code",
   "execution_count": 328,
   "metadata": {},
   "outputs": [],
   "source": [
    "dtw_list_knee=[]\n",
    "dtw_list_pelvic=[]\n",
    "column_dtw_knee=['Proband','RG2','CB1','CB3','CB7','WSPL','FG']\n",
    "column_dtw_pelvic=['Proband','RG2_pelvic','CB1_pelvic','CB3_pelvic','CB7_pelvic','WSPL_pelvic','FG_pelvic']"
   ]
  },
  {
   "cell_type": "code",
   "execution_count": 329,
   "metadata": {},
   "outputs": [],
   "source": [
    "#calculate the dtw for the combined files of knee"
   ]
  },
  {
   "cell_type": "code",
   "execution_count": 330,
   "metadata": {},
   "outputs": [],
   "source": [
    "for each_file in Path_merge_files_knee:\n",
    "    df1=pd.read_excel(Path_merge_files_path_knee+'/'+each_file)\n",
    "    RG2=dtw.distance(df1['RG1'].fillna(0).values,df1['RG2'].fillna(0).values)\n",
    "    CB1=dtw.distance(df1['RG1'].fillna(0).values,df1['CB1'].fillna(0).values)\n",
    "    #print(CB1)\n",
    "    CB3=dtw.distance(df1['RG1'].fillna(0).values,df1['CB3'].fillna(0).values)\n",
    "    CB7=dtw.distance(df1['RG1'].fillna(0).values,df1['CB7'].fillna(0).values)\n",
    "    WSPL=dtw.distance(df1['RG1'].fillna(0).values,df1['WSPL'].fillna(0).values)\n",
    "    FG=dtw.distance(df1['RG1'].fillna(0).values,df1['FG'].fillna(0).values)\n",
    "    dtw_list_knee.append([each_file,RG2,CB1,CB3,CB7,WSPL,FG])\n",
    "    #print(dtw_list)\n",
    "    "
   ]
  },
  {
   "cell_type": "code",
   "execution_count": 331,
   "metadata": {},
   "outputs": [],
   "source": [
    "#dtw_list_knee"
   ]
  },
  {
   "cell_type": "code",
   "execution_count": 332,
   "metadata": {},
   "outputs": [],
   "source": [
    "#calculate the dtw for the combined files of pelvic"
   ]
  },
  {
   "cell_type": "code",
   "execution_count": 333,
   "metadata": {},
   "outputs": [],
   "source": [
    "for each_file in Path_merge_files_pelvic:\n",
    "    df1=pd.read_excel(Path_merge_files_path_pelvic+'/'+each_file)\n",
    "    RG2=dtw.distance(df1['RG1_pelvic'].fillna(0).values,df1['RG2_pelvic'].fillna(0).values)\n",
    "    CB1=dtw.distance(df1['RG1_pelvic'].fillna(0).values,df1['CB1_pelvic'].fillna(0).values)\n",
    "    #print(CB1)\n",
    "    CB3=dtw.distance(df1['RG1_pelvic'].fillna(0).values,df1['CB3_pelvic'].fillna(0).values)\n",
    "    CB7=dtw.distance(df1['RG1_pelvic'].fillna(0).values,df1['CB7_pelvic'].fillna(0).values)\n",
    "    WSPL=dtw.distance(df1['RG1_pelvic'].fillna(0).values,df1['WSPL_pelvic'].fillna(0).values)\n",
    "    FG=dtw.distance(df1['RG1_pelvic'].fillna(0).values,df1['FG_pelvic'].fillna(0).values)\n",
    "    dtw_list_pelvic.append([each_file,RG2,CB1,CB3,CB7,WSPL,FG])\n",
    "    #print(dtw_list)"
   ]
  },
  {
   "cell_type": "code",
   "execution_count": 334,
   "metadata": {},
   "outputs": [],
   "source": [
    "#dtw_list_pelvic"
   ]
  },
  {
   "cell_type": "code",
   "execution_count": 335,
   "metadata": {},
   "outputs": [],
   "source": [
    "#df1=pd.read_excel(Path_merge_files_path+'/'+'Proband1.xls')"
   ]
  },
  {
   "cell_type": "code",
   "execution_count": 336,
   "metadata": {},
   "outputs": [],
   "source": [
    "dtw_list_knee1=pd.DataFrame(dtw_list_knee,columns=column_dtw_knee)"
   ]
  },
  {
   "cell_type": "code",
   "execution_count": 337,
   "metadata": {},
   "outputs": [],
   "source": [
    "dtw_list_pelvic1=pd.DataFrame(dtw_list_pelvic,columns=column_dtw_pelvic)"
   ]
  },
  {
   "cell_type": "code",
   "execution_count": 338,
   "metadata": {},
   "outputs": [],
   "source": [
    "dtw_list=pd.merge(dtw_list_knee1,dtw_list_pelvic1, on='Proband')"
   ]
  },
  {
   "cell_type": "code",
   "execution_count": 339,
   "metadata": {},
   "outputs": [],
   "source": [
    "#dtw_list"
   ]
  },
  {
   "cell_type": "code",
   "execution_count": 340,
   "metadata": {},
   "outputs": [],
   "source": [
    "#dtw_list['Proband'].apply(lambda x: x.split('.')[0])"
   ]
  },
  {
   "cell_type": "code",
   "execution_count": 341,
   "metadata": {},
   "outputs": [],
   "source": [
    "dtw_list['Proband']=dtw_list['Proband'].apply(lambda x: x.split('.')[0])"
   ]
  },
  {
   "cell_type": "code",
   "execution_count": 342,
   "metadata": {},
   "outputs": [],
   "source": [
    "classes_file=pd.read_excel('Final_ankel.xlsx',sheet_name=0,usecols=(['Proband','Class']))"
   ]
  },
  {
   "cell_type": "code",
   "execution_count": 343,
   "metadata": {},
   "outputs": [],
   "source": [
    "#classes_file"
   ]
  },
  {
   "cell_type": "code",
   "execution_count": 344,
   "metadata": {},
   "outputs": [],
   "source": [
    "dtw_list_class=pd.merge(dtw_list,classes_file,on='Proband')"
   ]
  },
  {
   "cell_type": "code",
   "execution_count": 345,
   "metadata": {},
   "outputs": [
    {
     "data": {
      "text/plain": [
       "<bound method NDFrame.head of         Proband        RG2         CB1         CB3         CB7        WSPL  \\\n",
       "0     Proband10  76.539176   67.953294   95.892224   99.790044   96.986215   \n",
       "1    Proband100  88.099399   90.461117   82.183417   84.647517   85.029693   \n",
       "2    Proband103  73.346212   75.014738  109.364625  117.516647  210.062518   \n",
       "3    Proband104  75.555616  116.778285  102.703585  109.672694  148.374110   \n",
       "4    Proband105  52.452147   76.893030   70.344719  113.623894  454.727507   \n",
       "..          ...        ...         ...         ...         ...         ...   \n",
       "402   Proband93  92.612422   71.461735   39.910240   80.827342  140.436681   \n",
       "403   Proband94  90.822462   55.231671   81.610140  127.540403  400.725316   \n",
       "404   Proband95  74.576074  106.991353   66.821575  139.220907   76.096311   \n",
       "405   Proband96  77.420644  134.404454   64.807476  261.156799   92.870481   \n",
       "406   Proband97  58.840969   70.854828   70.224075   75.437726  160.892981   \n",
       "\n",
       "             FG  RG2_pelvic  CB1_pelvic  CB3_pelvic  CB7_pelvic  WSPL_pelvic  \\\n",
       "0     73.821122   15.566100   20.869442   14.773638   12.521231    31.171323   \n",
       "1     68.969142   25.201203   15.644043   13.631638   15.510410    15.389836   \n",
       "2     81.999036   10.904778   19.844401   21.946756   27.869778    24.645758   \n",
       "3     76.272984   24.556252   22.041116   20.384819   28.312457    39.709467   \n",
       "4     60.597692   24.762631   31.668612   34.062143   29.817088    49.412067   \n",
       "..          ...         ...         ...         ...         ...          ...   \n",
       "402   53.183998   16.991338   11.287809   12.456685   14.528307    17.245626   \n",
       "403   80.138133   15.338987   11.694692   17.004761   24.735338    53.830759   \n",
       "404   77.858981   22.205158   23.499913   24.906780   36.038221    30.873443   \n",
       "405  131.771784   17.928011   21.688058   23.699454   34.323231    29.588579   \n",
       "406   40.264585   11.280092   17.345626   16.928785    8.661476    10.032793   \n",
       "\n",
       "     FG_pelvic  Class  \n",
       "0    16.790897    2.0  \n",
       "1    16.812730    1.0  \n",
       "2    17.931956    2.0  \n",
       "3    24.995909    2.0  \n",
       "4    27.467227    2.0  \n",
       "..         ...    ...  \n",
       "402  14.964133    2.0  \n",
       "403  21.091941    2.0  \n",
       "404  23.301104    3.0  \n",
       "405  18.916599    1.0  \n",
       "406  15.491312    3.0  \n",
       "\n",
       "[407 rows x 14 columns]>"
      ]
     },
     "execution_count": 345,
     "metadata": {},
     "output_type": "execute_result"
    }
   ],
   "source": [
    "dtw_list_class.head"
   ]
  },
  {
   "cell_type": "code",
   "execution_count": 346,
   "metadata": {},
   "outputs": [],
   "source": [
    "from sklearn.model_selection import train_test_split"
   ]
  },
  {
   "cell_type": "code",
   "execution_count": 347,
   "metadata": {},
   "outputs": [],
   "source": [
    "path='C:\\\\Users\\\\lokes\\\\Downloads\\\\Py-DS-ML-Bootcamp-master\\\\DTW and Classification'"
   ]
  },
  {
   "cell_type": "code",
   "execution_count": 348,
   "metadata": {},
   "outputs": [],
   "source": [
    "df2=pd.read_excel(path+'/knee/combined/'+'Proband1.xls')"
   ]
  },
  {
   "cell_type": "code",
   "execution_count": 349,
   "metadata": {},
   "outputs": [],
   "source": [
    "from dtaidistance import dtw_visualisation as dtwvis"
   ]
  },
  {
   "cell_type": "code",
   "execution_count": 350,
   "metadata": {},
   "outputs": [
    {
     "data": {
      "text/plain": [
       "(<Figure size 432x288 with 2 Axes>,\n",
       " array([<AxesSubplot:>, <AxesSubplot:>], dtype=object))"
      ]
     },
     "execution_count": 350,
     "metadata": {},
     "output_type": "execute_result"
    },
    {
     "data": {
      "image/png": "[encoded data removed]",
      "text/plain": [
       "<Figure size 432x288 with 2 Axes>"
      ]
     },
     "metadata": {
      "needs_background": "light"
     },
     "output_type": "display_data"
    }
   ],
   "source": [
    "warp = dtw.warping_path(df2['CB1'].fillna(0).values,df2['RG2'].fillna(0).values)\n",
    "dtwvis.plot_warping(df2['RG1'].fillna(0).values, df2['RG2'].fillna(0).values, warp)"
   ]
  },
  {
   "cell_type": "code",
   "execution_count": 351,
   "metadata": {},
   "outputs": [],
   "source": [
    "#dtw_list_class.iloc[2]"
   ]
  },
  {
   "cell_type": "code",
   "execution_count": 352,
   "metadata": {},
   "outputs": [],
   "source": [
    "#plt.figure(figsize=(22,7))\n",
    "#sns.heatmap(dtw_list.drop('Proband',axis=1),cmap='viridis')"
   ]
  },
  {
   "cell_type": "code",
   "execution_count": 353,
   "metadata": {},
   "outputs": [],
   "source": [
    "#sns.heatmap(dtw_list.drop('Proband',axis=1).corr(),cmap='viridis')"
   ]
  },
  {
   "cell_type": "code",
   "execution_count": 354,
   "metadata": {},
   "outputs": [],
   "source": [
    "#dtw_list.drop('Proband',axis=1).corr()"
   ]
  },
  {
   "cell_type": "code",
   "execution_count": 355,
   "metadata": {},
   "outputs": [],
   "source": [
    "#pd.set_option('display.height', 500)\n",
    "pd.set_option('display.max_rows', 20)"
   ]
  },
  {
   "cell_type": "code",
   "execution_count": 356,
   "metadata": {},
   "outputs": [],
   "source": [
    "dtw_list_class=dtw_list_class.dropna(axis=0)"
   ]
  },
  {
   "cell_type": "code",
   "execution_count": 357,
   "metadata": {},
   "outputs": [],
   "source": [
    "#dtw_list_class"
   ]
  },
  {
   "cell_type": "code",
   "execution_count": 358,
   "metadata": {},
   "outputs": [],
   "source": [
    "dtw_list_class_backup=dtw_list_class"
   ]
  },
  {
   "cell_type": "code",
   "execution_count": 359,
   "metadata": {},
   "outputs": [],
   "source": [
    "for index,row in dtw_list_class.iterrows():\n",
    "    for i in range(2,14):\n",
    "        #print(row[i])\n",
    "        if row[i]>300:\n",
    "            row[i]=0\n",
    "                \n",
    "    "
   ]
  },
  {
   "cell_type": "code",
   "execution_count": 360,
   "metadata": {},
   "outputs": [
    {
     "data": {
      "text/plain": [
       "Index(['Proband', 'RG2', 'CB1', 'CB3', 'CB7', 'WSPL', 'FG', 'RG2_pelvic',\n",
       "       'CB1_pelvic', 'CB3_pelvic', 'CB7_pelvic', 'WSPL_pelvic', 'FG_pelvic',\n",
       "       'Class'],\n",
       "      dtype='object')"
      ]
     },
     "execution_count": 360,
     "metadata": {},
     "output_type": "execute_result"
    }
   ],
   "source": [
    "(dtw_list_class.columns)"
   ]
  },
  {
   "cell_type": "code",
   "execution_count": 361,
   "metadata": {},
   "outputs": [
    {
     "data": {
      "text/plain": [
       "<bound method NDFrame.head of 0      76.539176\n",
       "1      88.099399\n",
       "2      73.346212\n",
       "3      75.555616\n",
       "4      52.452147\n",
       "         ...    \n",
       "402    92.612422\n",
       "403    90.822462\n",
       "404    74.576074\n",
       "405    77.420644\n",
       "406    58.840969\n",
       "Name: RG2, Length: 394, dtype: float64>"
      ]
     },
     "execution_count": 361,
     "metadata": {},
     "output_type": "execute_result"
    }
   ],
   "source": [
    "dtw_list_class['RG2'].head"
   ]
  },
  {
   "cell_type": "code",
   "execution_count": 362,
   "metadata": {},
   "outputs": [],
   "source": [
    "#dtw_list_class['RG2'].apply(lambda x: 'NaN' if x>200 or x==0 else x)"
   ]
  },
  {
   "cell_type": "code",
   "execution_count": 363,
   "metadata": {},
   "outputs": [],
   "source": [
    "columns_list=['RG2', 'CB1', 'CB3', 'CB7', 'WSPL', 'FG', 'RG2_pelvic',\n",
    "       'CB1_pelvic', 'CB3_pelvic', 'CB7_pelvic', 'WSPL_pelvic', 'FG_pelvic',\n",
    "       'Class']"
   ]
  },
  {
   "cell_type": "code",
   "execution_count": 364,
   "metadata": {},
   "outputs": [
    {
     "name": "stderr",
     "output_type": "stream",
     "text": [
      "<ipython-input-364-523138f2f3df>:2: SettingWithCopyWarning: \n",
      "A value is trying to be set on a copy of a slice from a DataFrame.\n",
      "Try using .loc[row_indexer,col_indexer] = value instead\n",
      "\n",
      "See the caveats in the documentation: https://pandas.pydata.org/pandas-docs/stable/user_guide/indexing.html#returning-a-view-versus-a-copy\n",
      "  dtw_list_class[x]=dtw_list_class[x].apply(lambda x: float('nan') if x=='NaN' or x==0 else x)\n"
     ]
    }
   ],
   "source": [
    "for x in columns_list:\n",
    "    dtw_list_class[x]=dtw_list_class[x].apply(lambda x: float('nan') if x>200 or x==0 else x)\n",
    "    "
   ]
  },
  {
   "cell_type": "code",
   "execution_count": 365,
   "metadata": {},
   "outputs": [],
   "source": [
    "#dtw_list_class"
   ]
  },
  {
   "cell_type": "code",
   "execution_count": 366,
   "metadata": {},
   "outputs": [],
   "source": [
    "dtw_list_class=dtw_list_class.dropna()"
   ]
  },
  {
   "cell_type": "code",
   "execution_count": 367,
   "metadata": {},
   "outputs": [
    {
     "data": {
      "text/plain": [
       "(391, 14)"
      ]
     },
     "execution_count": 367,
     "metadata": {},
     "output_type": "execute_result"
    }
   ],
   "source": [
    "dtw_list_class.shape"
   ]
  },
  {
   "cell_type": "code",
   "execution_count": 371,
   "metadata": {},
   "outputs": [],
   "source": [
    "import numpy as np\n",
    "#np.where(np.isnan(y))\n",
    "#np.isnan(X)"
   ]
  },
  {
   "cell_type": "code",
   "execution_count": 369,
   "metadata": {},
   "outputs": [],
   "source": [
    "X=dtw_list_class.drop(['Proband','Class'], axis=1)\n",
    "y=dtw_list_class['Class']\n",
    "X_train, X_test, y_train, y_test = train_test_split(X, y, test_size=0.30)"
   ]
  },
  {
   "cell_type": "code",
   "execution_count": 372,
   "metadata": {},
   "outputs": [
    {
     "data": {
      "text/plain": [
       "KNeighborsClassifier(n_neighbors=1)"
      ]
     },
     "execution_count": 372,
     "metadata": {},
     "output_type": "execute_result"
    }
   ],
   "source": [
    "from sklearn.neighbors import KNeighborsClassifier\n",
    "knn = KNeighborsClassifier(n_neighbors=1)\n",
    "knn.fit(X_train,y_train)"
   ]
  },
  {
   "cell_type": "code",
   "execution_count": 373,
   "metadata": {},
   "outputs": [],
   "source": [
    "pred = knn.predict(X_test)"
   ]
  },
  {
   "cell_type": "code",
   "execution_count": 374,
   "metadata": {},
   "outputs": [],
   "source": [
    "from sklearn.metrics import classification_report,confusion_matrix"
   ]
  },
  {
   "cell_type": "code",
   "execution_count": 375,
   "metadata": {},
   "outputs": [
    {
     "name": "stdout",
     "output_type": "stream",
     "text": [
      "[[18 20 10]\n",
      " [17 24  7]\n",
      " [ 8 10  4]]\n"
     ]
    }
   ],
   "source": [
    "print(confusion_matrix(y_test,pred))"
   ]
  },
  {
   "cell_type": "code",
   "execution_count": 376,
   "metadata": {},
   "outputs": [
    {
     "name": "stdout",
     "output_type": "stream",
     "text": [
      "              precision    recall  f1-score   support\n",
      "\n",
      "         1.0       0.42      0.38      0.40        48\n",
      "         2.0       0.44      0.50      0.47        48\n",
      "         3.0       0.19      0.18      0.19        22\n",
      "\n",
      "    accuracy                           0.39       118\n",
      "   macro avg       0.35      0.35      0.35       118\n",
      "weighted avg       0.39      0.39      0.39       118\n",
      "\n"
     ]
    }
   ],
   "source": [
    "print(classification_report(y_test,pred))"
   ]
  },
  {
   "cell_type": "code",
   "execution_count": 377,
   "metadata": {},
   "outputs": [],
   "source": [
    "error_rate = []\n",
    "\n",
    "# Will take some time\n",
    "for i in range(1,40):\n",
    "    \n",
    "    knn = KNeighborsClassifier(n_neighbors=i)\n",
    "    knn.fit(X_train,y_train)\n",
    "    pred_i = knn.predict(X_test)\n",
    "    error_rate.append(np.mean(pred_i != y_test))"
   ]
  },
  {
   "cell_type": "code",
   "execution_count": 379,
   "metadata": {},
   "outputs": [
    {
     "data": {
      "text/plain": [
       "0.5677966101694916"
      ]
     },
     "execution_count": 379,
     "metadata": {},
     "output_type": "execute_result"
    }
   ],
   "source": [
    "np.mean(pred_i != y_test)"
   ]
  },
  {
   "cell_type": "code",
   "execution_count": 380,
   "metadata": {},
   "outputs": [
    {
     "data": {
      "text/plain": [
       "Text(0, 0.5, 'Error Rate')"
      ]
     },
     "execution_count": 380,
     "metadata": {},
     "output_type": "execute_result"
    },
    {
     "data": {
      "image/png": "[encoded data removed]",
      "text/plain": [
       "<Figure size 720x432 with 1 Axes>"
      ]
     },
     "metadata": {
      "needs_background": "light"
     },
     "output_type": "display_data"
    }
   ],
   "source": [
    "plt.figure(figsize=(10,6))\n",
    "plt.plot(range(1,40),error_rate,color='blue', linestyle='dashed', marker='o',\n",
    "         markerfacecolor='red', markersize=10)\n",
    "plt.title('Error Rate vs. K Value')\n",
    "plt.xlabel('K')\n",
    "plt.ylabel('Error Rate')"
   ]
  },
  {
   "cell_type": "code",
   "execution_count": 381,
   "metadata": {},
   "outputs": [
    {
     "name": "stdout",
     "output_type": "stream",
     "text": [
      "WITH K=5\n",
      "\n",
      "\n",
      "[[22 20  6]\n",
      " [17 25  6]\n",
      " [ 7  9  6]]\n",
      "\n",
      "\n",
      "              precision    recall  f1-score   support\n",
      "\n",
      "         1.0       0.48      0.46      0.47        48\n",
      "         2.0       0.46      0.52      0.49        48\n",
      "         3.0       0.33      0.27      0.30        22\n",
      "\n",
      "    accuracy                           0.45       118\n",
      "   macro avg       0.42      0.42      0.42       118\n",
      "weighted avg       0.45      0.45      0.45       118\n",
      "\n"
     ]
    }
   ],
   "source": [
    "# NOW WITH K=30\n",
    "knn = KNeighborsClassifier(n_neighbors=5)\n",
    "\n",
    "knn.fit(X_train,y_train)\n",
    "pred = knn.predict(X_test)\n",
    "\n",
    "print('WITH K=5')\n",
    "print('\\n')\n",
    "print(confusion_matrix(y_test,pred))\n",
    "print('\\n')\n",
    "print(classification_report(y_test,pred))"
   ]
  },
  {
   "cell_type": "code",
   "execution_count": 382,
   "metadata": {},
   "outputs": [],
   "source": [
    "# classifying using decision trees algortighm"
   ]
  },
  {
   "cell_type": "code",
   "execution_count": 383,
   "metadata": {},
   "outputs": [],
   "source": [
    "from sklearn.tree import DecisionTreeClassifier"
   ]
  },
  {
   "cell_type": "code",
   "execution_count": 384,
   "metadata": {},
   "outputs": [],
   "source": [
    "dtree = DecisionTreeClassifier()"
   ]
  },
  {
   "cell_type": "code",
   "execution_count": 385,
   "metadata": {},
   "outputs": [
    {
     "data": {
      "text/plain": [
       "DecisionTreeClassifier()"
      ]
     },
     "execution_count": 385,
     "metadata": {},
     "output_type": "execute_result"
    }
   ],
   "source": [
    "dtree.fit(X_train,y_train)"
   ]
  },
  {
   "cell_type": "code",
   "execution_count": 386,
   "metadata": {},
   "outputs": [],
   "source": [
    "predictions = dtree.predict(X_test)"
   ]
  },
  {
   "cell_type": "code",
   "execution_count": 387,
   "metadata": {},
   "outputs": [],
   "source": [
    "from sklearn.metrics import classification_report,confusion_matrix"
   ]
  },
  {
   "cell_type": "code",
   "execution_count": 388,
   "metadata": {},
   "outputs": [
    {
     "name": "stdout",
     "output_type": "stream",
     "text": [
      "              precision    recall  f1-score   support\n",
      "\n",
      "         1.0       0.50      0.42      0.45        48\n",
      "         2.0       0.41      0.46      0.43        48\n",
      "         3.0       0.33      0.36      0.35        22\n",
      "\n",
      "    accuracy                           0.42       118\n",
      "   macro avg       0.41      0.41      0.41       118\n",
      "weighted avg       0.43      0.42      0.43       118\n",
      "\n"
     ]
    }
   ],
   "source": [
    "print(classification_report(y_test,predictions))"
   ]
  },
  {
   "cell_type": "code",
   "execution_count": 389,
   "metadata": {},
   "outputs": [],
   "source": [
    "# classsifying using Random Forest algortighm"
   ]
  },
  {
   "cell_type": "code",
   "execution_count": 390,
   "metadata": {},
   "outputs": [],
   "source": [
    "from sklearn.ensemble import RandomForestClassifier"
   ]
  },
  {
   "cell_type": "code",
   "execution_count": 391,
   "metadata": {},
   "outputs": [],
   "source": [
    "rfc = RandomForestClassifier(n_estimators=600)"
   ]
  },
  {
   "cell_type": "code",
   "execution_count": 392,
   "metadata": {},
   "outputs": [
    {
     "data": {
      "text/plain": [
       "RandomForestClassifier(n_estimators=600)"
      ]
     },
     "execution_count": 392,
     "metadata": {},
     "output_type": "execute_result"
    }
   ],
   "source": [
    "rfc.fit(X_train,y_train)"
   ]
  },
  {
   "cell_type": "code",
   "execution_count": 393,
   "metadata": {},
   "outputs": [],
   "source": [
    "predictions = rfc.predict(X_test)"
   ]
  },
  {
   "cell_type": "code",
   "execution_count": 394,
   "metadata": {},
   "outputs": [],
   "source": [
    "from sklearn.metrics import classification_report,confusion_matrix"
   ]
  },
  {
   "cell_type": "code",
   "execution_count": 395,
   "metadata": {},
   "outputs": [
    {
     "name": "stdout",
     "output_type": "stream",
     "text": [
      "              precision    recall  f1-score   support\n",
      "\n",
      "         1.0       0.67      0.42      0.51        48\n",
      "         2.0       0.47      0.67      0.55        48\n",
      "         3.0       0.25      0.23      0.24        22\n",
      "\n",
      "    accuracy                           0.48       118\n",
      "   macro avg       0.46      0.44      0.43       118\n",
      "weighted avg       0.51      0.48      0.48       118\n",
      "\n"
     ]
    }
   ],
   "source": [
    "print(classification_report(y_test,predictions))"
   ]
  },
  {
   "cell_type": "code",
   "execution_count": 396,
   "metadata": {},
   "outputs": [
    {
     "name": "stdout",
     "output_type": "stream",
     "text": [
      "[[20 21  7]\n",
      " [ 8 32  8]\n",
      " [ 2 15  5]]\n"
     ]
    }
   ],
   "source": [
    "print(confusion_matrix(y_test,predictions))"
   ]
  },
  {
   "cell_type": "code",
   "execution_count": null,
   "metadata": {},
   "outputs": [],
   "source": []
  }
 ],
 "metadata": {
  "kernelspec": {
   "display_name": "Python 3",
   "language": "python",
   "name": "python3"
  },
  "language_info": {
   "codemirror_mode": {
    "name": "ipython",
    "version": 3
   },
   "file_extension": ".py",
   "mimetype": "text/x-python",
   "name": "python",
   "nbconvert_exporter": "python",
   "pygments_lexer": "ipython3",
   "version": "3.8.3"
  }
 },
 "nbformat": 4,
 "nbformat_minor": 4
}
